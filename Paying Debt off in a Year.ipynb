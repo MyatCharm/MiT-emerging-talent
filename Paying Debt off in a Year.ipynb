{
 "cells": [
  {
   "cell_type": "code",
   "execution_count": null,
   "metadata": {},
   "outputs": [],
   "source": [
    "Monthly interest rate= (Annual interest rate) / 12.0\n",
    "Minimum monthly payment = (Minimum monthly payment rate) x (Previous balance)\n",
    "Monthly unpaid balance = (Previous balance) - (Minimum monthly payment)\n",
    "Updated balance each month = (Monthly unpaid balance) + (Monthly interest rate x Monthly unpaid balance)"
   ]
  },
  {
   "cell_type": "code",
   "execution_count": 101,
   "metadata": {},
   "outputs": [
    {
     "name": "stdout",
     "output_type": "stream",
     "text": [
      "92.46\n"
     ]
    }
   ],
   "source": [
    "balance = 130\n",
    "annualInterestRate = 0.15\n",
    "monthlyPaymentRate = 0.04\n",
    "\n",
    "monthlyInterestRate = annualInterestRate / 12.0\n",
    "for i in range(12):\n",
    "    minimumMonthlyPayment = monthlyPaymentRate * balance\n",
    "    monthlyUnpaidBalance = balance - minimumMonthlyPayment\n",
    "    balance = monthlyUnpaidBalance + (monthlyInterestRate * monthlyUnpaidBalance)\n",
    "print(round(balance, 2))"
   ]
  },
  {
   "cell_type": "code",
   "execution_count": 102,
   "metadata": {},
   "outputs": [
    {
     "name": "stdout",
     "output_type": "stream",
     "text": [
      "Minimum fixed monthly payment: 11.58\n"
     ]
    }
   ],
   "source": [
    "def calculate_min_fixed_monthly_payment(balance, annualInterestRate):\n",
    "    monthlyInterestRate = annualInterestRate / 12.0\n",
    "    lower_bound = balance / 12\n",
    "    upper_bound = (balance * (1 + monthlyInterestRate)**12) / 12.0\n",
    "    epsilon = 0.01\n",
    "\n",
    "    while lower_bound < upper_bound:\n",
    "        fixed_monthly_payment = (lower_bound + upper_bound) / 2\n",
    "        new_balance = balance\n",
    "\n",
    "        for month in range(12):\n",
    "            monthly_unpaid_balance = new_balance - fixed_monthly_payment\n",
    "            new_balance = monthly_unpaid_balance + (monthlyInterestRate * monthly_unpaid_balance)\n",
    "\n",
    "        if new_balance > 0:\n",
    "            lower_bound = fixed_monthly_payment + epsilon\n",
    "        else:\n",
    "            upper_bound = fixed_monthly_payment - epsilon\n",
    "\n",
    "    return round(fixed_monthly_payment, 2)\n",
    "\n",
    "# Example usage\n",
    "balance = 130\n",
    "annualInterestRate = 0.15\n",
    "min_payment = calculate_min_fixed_monthly_payment(balance, annualInterestRate)\n",
    "print(\"Minimum fixed monthly payment:\", min_payment)"
   ]
  },
  {
   "cell_type": "code",
   "execution_count": 132,
   "metadata": {},
   "outputs": [
    {
     "name": "stdout",
     "output_type": "stream",
     "text": [
      "Lowest Payment: 435\n"
     ]
    }
   ],
   "source": [
    "balance = 4773\n",
    "annualInterestRate = 0.2\n",
    "monthlyInterestRate = annualInterestRate / 12.0\n",
    "epsilon = 0.01\n",
    "\n",
    "fixed_monthly_payment =  0\n",
    "new_balance = balance\n",
    "\n",
    "while new_balance > 0:\n",
    "    fixed_monthly_payment += epsilon\n",
    "    new_balance = balance\n",
    "    \n",
    "    for month in range(12):\n",
    "        monthly_unpaid_balance = new_balance - fixed_monthly_payment\n",
    "        new_balance = monthly_unpaid_balance + (monthlyInterestRate * monthly_unpaid_balance)\n",
    "\n",
    "print(\"Lowest Payment:\", round(fixed_monthly_payment))"
   ]
  },
  {
   "cell_type": "code",
   "execution_count": 114,
   "metadata": {},
   "outputs": [
    {
     "name": "stdout",
     "output_type": "stream",
     "text": [
      "Lowest Payment: 73\n"
     ]
    }
   ],
   "source": [
    "balance = 791\n",
    "annualInterestRate = 0.25\n",
    "monthlyInterestRate = annualInterestRate / 12.0\n",
    "minimum_coverage = 10\n",
    "epsilon = balance * 0.01\n",
    "\n",
    "while True:\n",
    "    fixed_monthly_payment = minimum_coverage\n",
    "    new_balance = balance\n",
    "    \n",
    "    for month in range(12):\n",
    "        monthly_unpaid_balance = new_balance - fixed_monthly_payment\n",
    "        new_balance = monthly_unpaid_balance + (monthlyInterestRate * monthly_unpaid_balance)\n",
    "    \n",
    "    if minimum_coverage <= new_balance:\n",
    "        minimum_coverage = fixed_monthly_payment + epsilon\n",
    "    else:\n",
    "        break\n",
    "        \n",
    "\n",
    "print(\"Lowest Payment:\", round(fixed_monthly_payment))"
   ]
  },
  {
   "cell_type": "code",
   "execution_count": 117,
   "metadata": {},
   "outputs": [
    {
     "name": "stdout",
     "output_type": "stream",
     "text": [
      "99634.74\n"
     ]
    }
   ],
   "source": [
    "balance = 999999\n",
    "annualInterestRate = 0.18\n",
    "monthlyInterestRate = annualInterestRate / 12.0\n",
    "lower_bound = balance / 12\n",
    "upper_bound = balance * (1 + monthlyInterestRate)**12 / 12.0\n",
    "epsilon = 0.01\n",
    "\n",
    "while lower_bound < upper_bound:\n",
    "    fixed_monthly_payment = (lower_bound + upper_bound) / 2\n",
    "    new_balance = balance\n",
    "    \n",
    "    for i in range(12):\n",
    "        monthlyUnpaidBalance = new_balance - monthlyPaymentRate\n",
    "        new_balance = monthlyUnpaidBalance + (monthlyInterestRate * monthlyUnpaidBalance)\n",
    "    if new_balance > 0:\n",
    "        lower_bound = fixed_monthly_payment + epsilon\n",
    "    else:\n",
    "        upper_bound = fixed_monthly_payment - epsilon\n",
    "print(round(fixed_monthly_payment, 2))\n"
   ]
  },
  {
   "cell_type": "code",
   "execution_count": 139,
   "metadata": {},
   "outputs": [
    {
     "name": "stdout",
     "output_type": "stream",
     "text": [
      "Lowest Payment: 90325.03\n"
     ]
    }
   ],
   "source": [
    "balance = 999999\n",
    "annualInterestRate = 0.18\n",
    "monthlyInterestRate = annualInterestRate / 12.0\n",
    "lower_bound = balance / 12\n",
    "upper_bound = balance * (1 + monthlyInterestRate)**12 / 12.0\n",
    "epsilon = 0.01\n",
    "\n",
    "while True:\n",
    "    fixed_monthly_payment = (lower_bound + upper_bound) / 2\n",
    "    new_balance = balance\n",
    "    \n",
    "    for month in range(12):\n",
    "        monthly_unpaid_balance = new_balance - fixed_monthly_payment\n",
    "        new_balance = monthly_unpaid_balance + (monthlyInterestRate * monthly_unpaid_balance)\n",
    "    \n",
    "    if abs(new_balance) < epsilon:\n",
    "        break\n",
    "    elif new_balance > 0:\n",
    "        lower_bound = fixed_monthly_payment + epsilon\n",
    "    else:\n",
    "        upper_bound = fixed_monthly_payment - epsilon\n",
    "\n",
    "print(\"Lowest Payment:\", round(fixed_monthly_payment, 2))"
   ]
  }
 ],
 "metadata": {
  "kernelspec": {
   "display_name": "Python 3",
   "language": "python",
   "name": "python3"
  },
  "language_info": {
   "codemirror_mode": {
    "name": "ipython",
    "version": 3
   },
   "file_extension": ".py",
   "mimetype": "text/x-python",
   "name": "python",
   "nbconvert_exporter": "python",
   "pygments_lexer": "ipython3",
   "version": "3.11.9"
  }
 },
 "nbformat": 4,
 "nbformat_minor": 2
}
