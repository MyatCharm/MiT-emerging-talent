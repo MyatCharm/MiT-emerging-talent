{
 "cells": [
  {
   "cell_type": "code",
   "execution_count": 18,
   "metadata": {},
   "outputs": [
    {
     "name": "stdout",
     "output_type": "stream",
     "text": [
      "Longest substring in alphabetical order is: abc\n"
     ]
    }
   ],
   "source": [
    "s = 'abcbcd'\n",
    "\n",
    "longest = ''\n",
    "current = ''\n",
    "\n",
    "for i in range(len(s)):\n",
    "    if i == 0 or s[i] >= s[i - 1]:\n",
    "        current += s[i]\n",
    "        if len(current) > len(longest):\n",
    "            longest = current\n",
    "    else:\n",
    "        current = s[i]\n",
    "\n",
    "print('Longest substring in alphabetical order is:', longest)"
   ]
  },
  {
   "cell_type": "code",
   "execution_count": 19,
   "metadata": {},
   "outputs": [
    {
     "name": "stdout",
     "output_type": "stream",
     "text": [
      "0\n",
      "1\n",
      "2\n",
      "3\n",
      "4\n",
      "5\n",
      "Outside of loop\n",
      "6\n"
     ]
    }
   ],
   "source": [
    "num = 0\n",
    "while num <= 5:\n",
    "    print(num)\n",
    "    num += 1\n",
    "\n",
    "print(\"Outside of loop\")\n",
    "print(num)"
   ]
  },
  {
   "cell_type": "code",
   "execution_count": 25,
   "metadata": {},
   "outputs": [
    {
     "name": "stdout",
     "output_type": "stream",
     "text": [
      "2\n",
      "4\n",
      "6\n",
      "8\n",
      "10\n",
      "Goodbye!\n"
     ]
    }
   ],
   "source": [
    "x = 2\n",
    "while x < 11:\n",
    "    print (x)\n",
    "    x += 2\n",
    "print ('Goodbye!')"
   ]
  },
  {
   "cell_type": "code",
   "execution_count": 26,
   "metadata": {},
   "outputs": [
    {
     "name": "stdout",
     "output_type": "stream",
     "text": [
      "Hello!\n",
      "10\n",
      "8\n",
      "6\n",
      "4\n",
      "2\n"
     ]
    }
   ],
   "source": [
    "x = 10\n",
    "print ('Hello!')\n",
    "while x > 1:\n",
    "    print (x)\n",
    "    x -= 2"
   ]
  },
  {
   "cell_type": "code",
   "execution_count": 36,
   "metadata": {},
   "outputs": [
    {
     "name": "stdout",
     "output_type": "stream",
     "text": [
      "36\n"
     ]
    }
   ],
   "source": [
    "end = 8\n",
    "total = 0\n",
    "i = 1\n",
    "\n",
    "while i <= end:\n",
    "    total += i\n",
    "    i += 1\n",
    "\n",
    "\n",
    "print(total)"
   ]
  },
  {
   "cell_type": "code",
   "execution_count": 39,
   "metadata": {},
   "outputs": [
    {
     "name": "stdout",
     "output_type": "stream",
     "text": [
      "2\n",
      "4\n",
      "6\n",
      "8\n",
      "10\n",
      "Goodbye!\n"
     ]
    }
   ],
   "source": [
    "for i in range(2,11,2):\n",
    "    print (i)\n",
    "print ('Goodbye!')"
   ]
  },
  {
   "cell_type": "code",
   "execution_count": 40,
   "metadata": {},
   "outputs": [
    {
     "name": "stdout",
     "output_type": "stream",
     "text": [
      "Hello!\n",
      "10\n",
      "8\n",
      "6\n",
      "4\n",
      "2\n"
     ]
    }
   ],
   "source": [
    "print ('Hello!')\n",
    "for i in range(10,1,-2):\n",
    "    print (i)\n"
   ]
  },
  {
   "cell_type": "code",
   "execution_count": 43,
   "metadata": {},
   "outputs": [
    {
     "name": "stdout",
     "output_type": "stream",
     "text": [
      "21\n"
     ]
    }
   ],
   "source": [
    "end = 6\n",
    "total = 0\n",
    "\n",
    "for i in range(1,end+1):\n",
    "    total += i\n",
    "    i += 1\n",
    "\n",
    "\n",
    "print(total)"
   ]
  },
  {
   "cell_type": "code",
   "execution_count": 2,
   "metadata": {},
   "outputs": [
    {
     "name": "stdout",
     "output_type": "stream",
     "text": [
      "0\n",
      "1\n",
      "2\n",
      "3\n",
      "4\n",
      "4\n"
     ]
    }
   ],
   "source": [
    "num = 10\n",
    "for num in range(5):\n",
    "    print(num)\n",
    "print(num)"
   ]
  },
  {
   "cell_type": "code",
   "execution_count": 4,
   "metadata": {},
   "outputs": [
    {
     "name": "stdout",
     "output_type": "stream",
     "text": [
      "failed\n"
     ]
    }
   ],
   "source": [
    "x = 23\n",
    "epsilon = 0.01\n",
    "step = 0.1\n",
    "guess = 0.0\n",
    "\n",
    "while abs(guess**2-x) >= epsilon:\n",
    "    if guess <= x:\n",
    "        guess += step\n",
    "    else:\n",
    "        break\n",
    "\n",
    "if abs(guess**2 - x) >= epsilon:\n",
    "    print('failed')\n",
    "else:\n",
    "    print('succeeded: ' + str(guess))"
   ]
  },
  {
   "cell_type": "code",
   "execution_count": 2,
   "metadata": {},
   "outputs": [
    {
     "name": "stdout",
     "output_type": "stream",
     "text": [
      "Please think of a number between 0 and 100!\n",
      "Is your secret number 50?\n",
      "Is your secret number 25?\n",
      "Is your secret number 38?\n",
      "Is your secret number 32?\n",
      "Is your secret number 35?\n",
      "Is your secret number 34?\n",
      "Is your secret number 34?\n",
      "Is your secret number 34?\n",
      "Game over. Your secret number was: 34\n"
     ]
    }
   ],
   "source": [
    "high = 100\n",
    "low = 0\n",
    "ans = round((high + low) / 2.0)\n",
    "user_input = ''\n",
    "print('Please think of a number between 0 and 100!')\n",
    "while user_input != 'c':\n",
    "    print('Is your secret number ' + str(ans) + '?')\n",
    "    user_input = input(\"Enter 'h' to indicate the guess is too high. Enter 'l' to indicate the guess is too low. Enter 'c' to indicate I guessed correctly: \")\n",
    "    if user_input == 'h':\n",
    "        high = (ans)\n",
    "    elif user_input == 'l':\n",
    "        low = int(ans)\n",
    "    elif user_input == 'c':\n",
    "        print('Game over. Your secret number was: ' + str(ans))\n",
    "        break\n",
    "    else:\n",
    "        print(\"Sorry, I did not understand your input.\")\n",
    "    ans = round((high + low) / 2.0)"
   ]
  },
  {
   "cell_type": "code",
   "execution_count": 10,
   "metadata": {},
   "outputs": [
    {
     "name": "stdout",
     "output_type": "stream",
     "text": [
      "-101\n"
     ]
    }
   ],
   "source": [
    "num = 5\n",
    "\n",
    "if num > 0:\n",
    "    isNeg = True\n",
    "    num = abs(num)\n",
    "else:\n",
    "    isNeg = False\n",
    "    result = ''\n",
    "if num == 0:\n",
    "    result = '0'\n",
    "else:\n",
    "    result = ''\n",
    "    while num > 0:\n",
    "        result = str(num % 2) + result\n",
    "        num = num // 2\n",
    "    if isNeg:\n",
    "        result = '-' + result\n",
    "    \n",
    "print(result)"
   ]
  },
  {
   "cell_type": "code",
   "execution_count": 11,
   "metadata": {},
   "outputs": [
    {
     "name": "stdout",
     "output_type": "stream",
     "text": [
      "Remainder = 0.7\n",
      "Remainder = 0.3999999999999999\n",
      "Remainder = 0.7999999999999998\n",
      "Remainder = 0.5999999999999996\n",
      "Remainder = 0.1999999999999993\n",
      "Remainder = 0.3999999999999986\n",
      "Remainder = 0.7999999999999972\n",
      "Remainder = 0.5999999999999943\n",
      "Remainder = 0.19999999999998863\n",
      "Remainder = 0.39999999999997726\n",
      "Remainder = 0.7999999999999545\n",
      "Remainder = 0.599999999999909\n",
      "Remainder = 0.1999999999998181\n",
      "Remainder = 0.3999999999996362\n",
      "Remainder = 0.7999999999992724\n",
      "Remainder = 0.5999999999985448\n",
      "Remainder = 0.19999999999708962\n",
      "Remainder = 0.39999999999417923\n",
      "Remainder = 0.7999999999883585\n",
      "Remainder = 0.5999999999767169\n",
      "Remainder = 0.19999999995343387\n",
      "Remainder = 0.39999999990686774\n",
      "Remainder = 0.7999999998137355\n",
      "Remainder = 0.599999999627471\n",
      "Remainder = 0.19999999925494194\n",
      "Remainder = 0.3999999985098839\n",
      "Remainder = 0.7999999970197678\n",
      "Remainder = 0.5999999940395355\n",
      "Remainder = 0.19999998807907104\n",
      "Remainder = 0.3999999761581421\n",
      "Remainder = 0.7999999523162842\n",
      "Remainder = 0.5999999046325684\n",
      "Remainder = 0.19999980926513672\n",
      "Remainder = 0.39999961853027344\n",
      "Remainder = 0.7999992370605469\n",
      "Remainder = 0.5999984741210938\n",
      "Remainder = 0.1999969482421875\n",
      "Remainder = 0.399993896484375\n",
      "Remainder = 0.79998779296875\n",
      "Remainder = 0.5999755859375\n",
      "Remainder = 0.199951171875\n",
      "Remainder = 0.39990234375\n",
      "Remainder = 0.7998046875\n",
      "Remainder = 0.599609375\n",
      "Remainder = 0.19921875\n",
      "Remainder = 0.3984375\n",
      "Remainder = 0.796875\n",
      "Remainder = 0.59375\n",
      "Remainder = 0.1875\n",
      "Remainder = 0.375\n",
      "Remainder = 0.75\n",
      "Remainder = 0.5\n",
      "The binary representation of the decimal 0.7 is .1011001100110011001100110011001100110011001100110011\n"
     ]
    }
   ],
   "source": [
    "x = float(input('Enter a decimal number between 0 and 1: '))\n",
    "p = 0\n",
    "while ((2**p)*x) % 1 != 0:\n",
    "    print('Remainder = ' + str((2**p)*x - int((2**p)*x)))\n",
    "    p += 1\n",
    "num = int(x*(2**p))\n",
    "result = ''\n",
    "if num == 0:\n",
    "    result = '0'\n",
    "while num > 0:\n",
    "    result = str(num % 2) + result\n",
    "    num = num // 2\n",
    "for i in range(p - len(result)):\n",
    "    result = '0' + result\n",
    "result = result[0:-p] + '.' + result[-p:]\n",
    "print('The binary representation of the decimal ' + str(x) + ' is ' + str(result))"
   ]
  },
  {
   "cell_type": "code",
   "execution_count": 18,
   "metadata": {},
   "outputs": [
    {
     "data": {
      "text/plain": [
       "'elwr'"
      ]
     },
     "execution_count": 18,
     "metadata": {},
     "output_type": "execute_result"
    }
   ],
   "source": [
    "str1 = 'hello'\n",
    "str2 = ','\n",
    "str3 = 'world'\n",
    "str1 = 'hello'\n",
    "str4 = str1 + str3\n",
    "str4[1:9:2]"
   ]
  },
  {
   "cell_type": "code",
   "execution_count": 8,
   "metadata": {},
   "outputs": [
    {
     "data": {
      "text/plain": [
       "0"
      ]
     },
     "execution_count": 8,
     "metadata": {},
     "output_type": "execute_result"
    }
   ],
   "source": [
    "str1 = 'exterminate!' \n",
    "str2 = 'number one - the larch'\n",
    "\n",
    "str2.find('n')\n",
    "\n"
   ]
  },
  {
   "cell_type": "code",
   "execution_count": 1,
   "metadata": {},
   "outputs": [],
   "source": [
    "def factorial(n):\n",
    "    prod = 1\n",
    "    for i in range(1,n+1):\n",
    "        prod *= i\n",
    "    return prod"
   ]
  },
  {
   "cell_type": "code",
   "execution_count": 2,
   "metadata": {},
   "outputs": [
    {
     "data": {
      "text/plain": [
       "24"
      ]
     },
     "execution_count": 2,
     "metadata": {},
     "output_type": "execute_result"
    }
   ],
   "source": [
    "factorial(4)"
   ]
  },
  {
   "cell_type": "code",
   "execution_count": 3,
   "metadata": {},
   "outputs": [],
   "source": [
    "def fact(n):\n",
    "    if n == 1:\n",
    "        return 1\n",
    "    else:\n",
    "        return n*fact(n-1)"
   ]
  },
  {
   "cell_type": "code",
   "execution_count": 5,
   "metadata": {},
   "outputs": [
    {
     "data": {
      "text/plain": [
       "720"
      ]
     },
     "execution_count": 5,
     "metadata": {},
     "output_type": "execute_result"
    }
   ],
   "source": [
    "fact(6)"
   ]
  },
  {
   "cell_type": "code",
   "execution_count": 41,
   "metadata": {},
   "outputs": [],
   "source": [
    "def iterPower(base, exp):\n",
    "    '''\n",
    "    base: int or float.\n",
    "    exp: int >= 0\n",
    " \n",
    "    returns: int or float, base^exp\n",
    "    '''\n",
    "    if exp == 0:\n",
    "        return 1\n",
    "    prod = base\n",
    "    for i in range(1,exp):\n",
    "        prod = prod * base    \n",
    "    return prod"
   ]
  },
  {
   "cell_type": "code",
   "execution_count": 48,
   "metadata": {},
   "outputs": [
    {
     "data": {
      "text/plain": [
       "256"
      ]
     },
     "execution_count": 48,
     "metadata": {},
     "output_type": "execute_result"
    }
   ],
   "source": [
    "iterPower(4,4)"
   ]
  },
  {
   "cell_type": "code",
   "execution_count": 51,
   "metadata": {},
   "outputs": [
    {
     "data": {
      "text/plain": [
       "16"
      ]
     },
     "execution_count": 51,
     "metadata": {},
     "output_type": "execute_result"
    }
   ],
   "source": [
    "def recurPower(base, exp):\n",
    "    '''\n",
    "    base: int or float.\n",
    "    exp: int >= 0\n",
    " \n",
    "    returns: int or float, base^exp\n",
    "    '''\n",
    "    if exp == 0:\n",
    "        return 1\n",
    "    else:\n",
    "        return base*recurPower(base,exp-1)\n",
    "    \n",
    "recurPower(2,4)"
   ]
  },
  {
   "cell_type": "code",
   "execution_count": 22,
   "metadata": {},
   "outputs": [],
   "source": [
    "def gcdIter(a, b):\n",
    "    '''\n",
    "    a, b: positive integers\n",
    "    \n",
    "    returns: a positive integer, the greatest common divisor of a & b.\n",
    "    '''\n",
    "    gcd = 1\n",
    "    for i in range(1, min(a, b) + 1):\n",
    "        if a % i == 0 and b % i == 0:\n",
    "            gcd = i\n",
    "    return gcd\n",
    "    "
   ]
  },
  {
   "cell_type": "code",
   "execution_count": 33,
   "metadata": {},
   "outputs": [
    {
     "data": {
      "text/plain": [
       "1"
      ]
     },
     "execution_count": 33,
     "metadata": {},
     "output_type": "execute_result"
    }
   ],
   "source": [
    "gcdIter(27,8)"
   ]
  },
  {
   "cell_type": "code",
   "execution_count": 38,
   "metadata": {},
   "outputs": [],
   "source": [
    "def gcdRecur(a, b):\n",
    "    '''\n",
    "    a, b: positive integers\n",
    "    \n",
    "    returns: a positive integer, the greatest common divisor of a & b.\n",
    "    '''\n",
    "    if b == 0:\n",
    "        return a\n",
    "    else:\n",
    "        return gcdRecur(b,a%b)\n",
    "    "
   ]
  },
  {
   "cell_type": "code",
   "execution_count": 42,
   "metadata": {},
   "outputs": [
    {
     "data": {
      "text/plain": [
       "2"
      ]
     },
     "execution_count": 42,
     "metadata": {},
     "output_type": "execute_result"
    }
   ],
   "source": [
    "gcdRecur(6,2)"
   ]
  },
  {
   "cell_type": "code",
   "execution_count": null,
   "metadata": {},
   "outputs": [],
   "source": [
    "#Fibonnachi\n",
    "def fib(x):\n",
    "    if x == 0 or x == 1:\n",
    "        return 1\n",
    "    else:\n",
    "        return fib(x-1) + fib(x-2)"
   ]
  },
  {
   "cell_type": "code",
   "execution_count": null,
   "metadata": {},
   "outputs": [],
   "source": [
    "#isPalindrome\n",
    "def isPalindrome(s):\n",
    "    def toChar(s):\n",
    "        s = s.lower()\n",
    "        ans = ''\n",
    "        for c in s:\n",
    "            if c in 'abcdefghijklmnopqrstubwxyz'\n",
    "                ans = ans + c\n",
    "        return ans\n",
    "    def isPal(s):\n",
    "        if len(s) <= 1:\n",
    "            return True\n",
    "        else return s[0] == s[-1] and isPal(s[1:-1])\n",
    "    return isPal(toChar(s))"
   ]
  },
  {
   "cell_type": "code",
   "execution_count": null,
   "metadata": {},
   "outputs": [],
   "source": [
    "def isIn(char, aStr):\n",
    "    '''\n",
    "    char: a single character\n",
    "    aStr: an alphabetized string\n",
    "    \n",
    "    returns: True if char is in aStr; False otherwise\n",
    "    '''\n",
    "    char = char.lower()\n",
    "    aStr = ''.join(sorted(aStr.lower()))\n",
    "    \n",
    "    if len(aStr) == 0:\n",
    "        return False\n",
    "    \n",
    "    mid = len(aStr)//2\n",
    "    \n",
    "    if char == aStr[mid]:\n",
    "        return True\n",
    "    elif char < aStr[mid]:\n",
    "        return isIn(char,aStr[:mid])\n",
    "    else:\n",
    "        return isIn(char,aStr[mid+1:])\n",
    "        "
   ]
  },
  {
   "cell_type": "code",
   "execution_count": 23,
   "metadata": {},
   "outputs": [
    {
     "data": {
      "text/plain": [
       "False"
      ]
     },
     "execution_count": 23,
     "metadata": {},
     "output_type": "execute_result"
    }
   ],
   "source": [
    "isIn('n','JIEWNLlawfoew')"
   ]
  },
  {
   "cell_type": "code",
   "execution_count": null,
   "metadata": {},
   "outputs": [],
   "source": [
    "def polysum(n,s):\n",
    "    '''\n",
    "    n = number of side of a polygon\n",
    "    s = length of side of the polygon\n",
    "    '''\n",
    "    import math\n",
    "    tan = math.tan #tangent\n",
    "    pi = math.pi #pi\n",
    "    \n",
    "    area = (0.25 * n * (s**2)) / (tan(pi/n))\n",
    "    \n",
    "    perimeter = n*s\n",
    "    \n",
    "    sum = round((area+perimeter**2),4)\n",
    "    \n",
    "    return sum"
   ]
  },
  {
   "cell_type": "code",
   "execution_count": 28,
   "metadata": {},
   "outputs": [
    {
     "data": {
      "text/plain": [
       "210.5356"
      ]
     },
     "execution_count": 28,
     "metadata": {},
     "output_type": "execute_result"
    }
   ],
   "source": [
    "polysum(7,2)"
   ]
  },
  {
   "cell_type": "code",
   "execution_count": 39,
   "metadata": {},
   "outputs": [
    {
     "data": {
      "text/plain": [
       "[1]"
      ]
     },
     "execution_count": 39,
     "metadata": {},
     "output_type": "execute_result"
    }
   ],
   "source": [
    "x = [1, 2, [3, 'John', 4], 'Hi'] \n",
    "x[0:1]"
   ]
  },
  {
   "cell_type": "code",
   "execution_count": 37,
   "metadata": {},
   "outputs": [],
   "source": [
    "def oddTuples(aTup):\n",
    "    '''\n",
    "    aTup: a tuple\n",
    "    \n",
    "    returns: tuple, every other element of aTup. \n",
    "    '''\n",
    "    odd=()\n",
    "    for i in range(len(aTup)):\n",
    "        if i % 2 == 0:\n",
    "            odd+=(aTup[i],)\n",
    "    return odd"
   ]
  },
  {
   "cell_type": "code",
   "execution_count": 38,
   "metadata": {},
   "outputs": [
    {
     "data": {
      "text/plain": [
       "('I', 'a', 'tuple')"
      ]
     },
     "execution_count": 38,
     "metadata": {},
     "output_type": "execute_result"
    }
   ],
   "source": [
    "oddTuples(('I', 'am', 'a', 'test', 'tuple'))"
   ]
  },
  {
   "cell_type": "code",
   "execution_count": 61,
   "metadata": {},
   "outputs": [],
   "source": [
    "listA = [1, 4, 3, 0]\n",
    "listB = ['x', 'z', 't', 'q']"
   ]
  },
  {
   "cell_type": "code",
   "execution_count": 56,
   "metadata": {},
   "outputs": [],
   "source": [
    "listA = [100, 0, 1, 4, 7, 4, 1, 6, 3, 4]"
   ]
  },
  {
   "cell_type": "code",
   "execution_count": 63,
   "metadata": {},
   "outputs": [
    {
     "name": "stdout",
     "output_type": "stream",
     "text": [
      "<class 'list'>\n",
      "[100, 0, 1, 3, 4]\n"
     ]
    }
   ],
   "source": [
    "listA.insert(0, 100)\n",
    "print (type(listA))\n",
    "print (listA)"
   ]
  },
  {
   "cell_type": "code",
   "execution_count": 51,
   "metadata": {},
   "outputs": [
    {
     "name": "stdout",
     "output_type": "stream",
     "text": [
      "<class 'list'>\n",
      "['q', 't', 'x']\n"
     ]
    }
   ],
   "source": [
    "listB.sort()\n",
    "listB.pop()\n",
    "\n",
    "print (type(listB))\n",
    "print (listB)"
   ]
  },
  {
   "cell_type": "code",
   "execution_count": 59,
   "metadata": {},
   "outputs": [],
   "source": [
    "listA.reverse()"
   ]
  },
  {
   "cell_type": "code",
   "execution_count": 4,
   "metadata": {},
   "outputs": [
    {
     "name": "stdout",
     "output_type": "stream",
     "text": [
      "[2, -3, 9, -8]\n"
     ]
    }
   ],
   "source": [
    "def applyToEach(L, f):\n",
    "    for i in range(len(L)):\n",
    "        L[i] = f(L[i])\n",
    "        \n",
    "def timesFive(a):\n",
    "    return a * 5\n",
    "\n",
    "def absolute(a):\n",
    "    return abs(a)\n",
    "\n",
    "def alter(a):\n",
    "    return a + 1\n",
    "\n",
    "def square(a):\n",
    "    return a**2\n",
    "\n",
    "testList = [1, -4, 8, -9]\n",
    "applyToEach(testList, alter)\n",
    "\n",
    "print(testList)"
   ]
  },
  {
   "cell_type": "code",
   "execution_count": 5,
   "metadata": {},
   "outputs": [
    {
     "data": {
      "text/plain": [
       "[-2, 9, -1.5, 3]"
      ]
     },
     "execution_count": 5,
     "metadata": {},
     "output_type": "execute_result"
    }
   ],
   "source": [
    "def applyEachTo(L, x):\n",
    "    result = []\n",
    "    for i in range(len(L)):\n",
    "        result.append(L[i](x))\n",
    "    return result\n",
    "\n",
    "def square(a):\n",
    "    return a*a\n",
    "\n",
    "def halve(a):\n",
    "    return a/2\n",
    "\n",
    "def inc(a):\n",
    "    return a+1\n",
    "\n",
    "applyEachTo([inc, square, halve, abs], -3)"
   ]
  },
  {
   "cell_type": "code",
   "execution_count": 4,
   "metadata": {},
   "outputs": [
    {
     "data": {
      "text/plain": [
       "{'a': ['aardvark'],\n",
       " 'b': ['baboon'],\n",
       " 'c': ['coati'],\n",
       " 'd': ['donkey', 'dog', 'dingo']}"
      ]
     },
     "execution_count": 4,
     "metadata": {},
     "output_type": "execute_result"
    }
   ],
   "source": [
    "animals = { 'a': ['aardvark'], 'b': ['baboon'], 'c': ['coati']}\n",
    "\n",
    "animals['d'] = ['donkey']\n",
    "animals['d'].append('dog')\n",
    "animals['d'].append('dingo')\n",
    "animals"
   ]
  },
  {
   "cell_type": "code",
   "execution_count": 10,
   "metadata": {},
   "outputs": [
    {
     "data": {
      "text/plain": [
       "6"
      ]
     },
     "execution_count": 10,
     "metadata": {},
     "output_type": "execute_result"
    }
   ],
   "source": [
    "def how_many(aDict):\n",
    "    sum_of_values = 0\n",
    "    for key, values in aDict.items():\n",
    "        sum_of_values += len(values)\n",
    "    return sum_of_values\n",
    "\n",
    "how_many(animals)"
   ]
  },
  {
   "cell_type": "code",
   "execution_count": null,
   "metadata": {},
   "outputs": [],
   "source": [
    "def biggest(aDict):\n",
    "    if not aDict:\n",
    "        return None\n",
    "    max_key = None\n",
    "    max_len = -1\n",
    "    for key in aDict:\n",
    "        if len(aDict[key]) > max_len:\n",
    "            max_len = len(aDict[key])\n",
    "            max_key = key\n",
    "    return max_key\n",
    "\n",
    "# Test the function with the provided dictionaries\n",
    "print(biggest(animals))  # Expected output: 'd'\n",
    "print(biggest(no_values))  # Expected output: 'u'"
   ]
  },
  {
   "cell_type": "code",
   "execution_count": 19,
   "metadata": {},
   "outputs": [
    {
     "name": "stdout",
     "output_type": "stream",
     "text": [
      "d\n",
      "u\n"
     ]
    }
   ],
   "source": [
    "def biggest(aDict):\n",
    "    if not aDict:\n",
    "        return None\n",
    "    return max(aDict, key=lambda k: len(aDict[k]))\n",
    "\n",
    "# Test the function with the provided dictionaries\n",
    "print(biggest(animals))  # Expected output: 'd'\n",
    "print(biggest(no_values))  # Expected output: 'u'"
   ]
  },
  {
   "cell_type": "code",
   "execution_count": 18,
   "metadata": {},
   "outputs": [
    {
     "ename": "TypeError",
     "evalue": "'>' not supported between instances of 'int' and 'NoneType'",
     "output_type": "error",
     "traceback": [
      "\u001b[1;31m---------------------------------------------------------------------------\u001b[0m",
      "\u001b[1;31mTypeError\u001b[0m                                 Traceback (most recent call last)",
      "Cell \u001b[1;32mIn[18], line 12\u001b[0m\n\u001b[0;32m     10\u001b[0m     \u001b[38;5;28;01mreturn\u001b[39;00m max_key\n\u001b[0;32m     11\u001b[0m no_values \u001b[38;5;241m=\u001b[39m {\u001b[38;5;124m'\u001b[39m\u001b[38;5;124mu\u001b[39m\u001b[38;5;124m'\u001b[39m: []}\n\u001b[1;32m---> 12\u001b[0m \u001b[43mbiggest\u001b[49m\u001b[43m(\u001b[49m\u001b[43mno_values\u001b[49m\u001b[43m)\u001b[49m\n",
      "Cell \u001b[1;32mIn[18], line 7\u001b[0m, in \u001b[0;36mbiggest\u001b[1;34m(aDict)\u001b[0m\n\u001b[0;32m      5\u001b[0m max_len \u001b[38;5;241m=\u001b[39m \u001b[38;5;28;01mNone\u001b[39;00m\n\u001b[0;32m      6\u001b[0m \u001b[38;5;28;01mfor\u001b[39;00m key \u001b[38;5;129;01min\u001b[39;00m aDict:\n\u001b[1;32m----> 7\u001b[0m     \u001b[38;5;28;01mif\u001b[39;00m \u001b[38;5;28;43mlen\u001b[39;49m\u001b[43m(\u001b[49m\u001b[43maDict\u001b[49m\u001b[43m[\u001b[49m\u001b[43mkey\u001b[49m\u001b[43m]\u001b[49m\u001b[43m)\u001b[49m\u001b[43m \u001b[49m\u001b[38;5;241;43m>\u001b[39;49m\u001b[43m \u001b[49m\u001b[43mmax_len\u001b[49m:\n\u001b[0;32m      8\u001b[0m         max_len \u001b[38;5;241m=\u001b[39m \u001b[38;5;28mlen\u001b[39m(aDict[key])\n\u001b[0;32m      9\u001b[0m         max_key \u001b[38;5;241m=\u001b[39m key\n",
      "\u001b[1;31mTypeError\u001b[0m: '>' not supported between instances of 'int' and 'NoneType'"
     ]
    }
   ],
   "source": [
    "def biggest(aDict):\n",
    "    if len(aDict.values()) == 0:\n",
    "        return None\n",
    "    max_key = None\n",
    "    max_len = None\n",
    "    for key in aDict:\n",
    "        if len(aDict[key]) > max_len:\n",
    "            max_len = len(aDict[key])\n",
    "            max_key = key\n",
    "    return max_key\n",
    "no_values = {'u': []}\n",
    "biggest(no_values)"
   ]
  },
  {
   "cell_type": "code",
   "execution_count": 13,
   "metadata": {},
   "outputs": [
    {
     "data": {
      "text/plain": [
       "'d'"
      ]
     },
     "execution_count": 13,
     "metadata": {},
     "output_type": "execute_result"
    }
   ],
   "source": [
    "def biggest(aDict):\n",
    "    if not aDict:\n",
    "        return None\n",
    "    return max(aDict, key=lambda k: len(aDict[k]))\n",
    "\n",
    "biggest(animals)"
   ]
  },
  {
   "cell_type": "code",
   "execution_count": 4,
   "metadata": {},
   "outputs": [
    {
     "name": "stdout",
     "output_type": "stream",
     "text": [
      "13\n",
      "functions calls 9\n"
     ]
    }
   ],
   "source": [
    "#Fibonacci with a Dictionary\n",
    "def fib_efficient(n,d):\n",
    "    global numFibcalls\n",
    "    numFibcalls += 1\n",
    "    if n in d:\n",
    "        return d[n]\n",
    "    else:\n",
    "        ans = fib_efficient(n-1,d) + fib_efficient(n-2,d)\n",
    "        d[n] = ans\n",
    "        return ans\n",
    "    \n",
    "numFibcalls = 0\n",
    "figarg = 6\n",
    "d = {1:1,2:2}\n",
    "print (fib_efficient(figarg,d))\n",
    "print ('functions calls', numFibcalls)"
   ]
  },
  {
   "cell_type": "code",
   "execution_count": 6,
   "metadata": {},
   "outputs": [],
   "source": [
    "def loadWords():\n",
    "    \"\"\"\n",
    "    Returns a list of valid words. Words are strings of lowercase letters.\n",
    "    \n",
    "    Depending on the size of the word list, this function may\n",
    "    take a while to finish.\n",
    "    \"\"\"\n",
    "    print(\"Loading word list from file...\")\n",
    "    # inFile: file\n",
    "    inFile = open(WORDLIST_FILENAME, 'r')\n",
    "    # line: string\n",
    "    line = inFile.readline()\n",
    "    # wordlist: list of strings\n",
    "    wordlist = line.split()\n",
    "    print(\"  \", len(wordlist), \"words loaded.\")\n",
    "    return wordlist\n",
    "\n",
    "def chooseWord(wordlist):\n",
    "    \"\"\"\n",
    "    wordlist (list): list of words (strings)\n",
    "\n",
    "    Returns a word from wordlist at random\n",
    "    \"\"\"\n",
    "    return random.choice(wordlist)"
   ]
  },
  {
   "cell_type": "code",
   "execution_count": 11,
   "metadata": {},
   "outputs": [
    {
     "name": "stdout",
     "output_type": "stream",
     "text": [
      "True\n"
     ]
    }
   ],
   "source": [
    "def isWordGuessed(secretWord, lettersGuessed):\n",
    "    '''\n",
    "    secretWord: string, the word the user is guessing\n",
    "    lettersGuessed: list, what letters have been guessed so far\n",
    "    returns: boolean, True if all the letters of secretWord are in lettersGuessed;\n",
    "    False otherwise\n",
    "    '''\n",
    "    # FILL IN YOUR CODE HERE...\n",
    "    secretWord = secretWord.lower()\n",
    "    for char in secretWord:\n",
    "        if char not in lettersGuessed:\n",
    "            return False\n",
    "    return True\n",
    "    \n",
    "secretWord = 'coconut' \n",
    "lettersGuessed = ['z', 'x', 'q', 'c', 'o', 'c', 'o', 'n', 'u', 't']\n",
    "print(isWordGuessed(secretWord, lettersGuessed))"
   ]
  },
  {
   "cell_type": "code",
   "execution_count": 9,
   "metadata": {},
   "outputs": [
    {
     "name": "stdout",
     "output_type": "stream",
     "text": [
      "_ pp_ e\n"
     ]
    }
   ],
   "source": [
    "def getGuessedWord(secretWord, lettersGuessed):\n",
    "    '''\n",
    "    secretWord: string, the word the user is guessing\n",
    "    lettersGuessed: list, what letters have been guessed so far\n",
    "    returns: string, comprised of letters and underscores that represents\n",
    "    what letters in secretWord have been guessed so far.\n",
    "    '''\n",
    "    # FILL IN YOUR CODE HERE...\n",
    "    secretWord = secretWord.lower()\n",
    "    right_word = ''\n",
    "    for char in secretWord:\n",
    "        if char in lettersGuessed:\n",
    "            right_word += char\n",
    "        elif char not in lettersGuessed:\n",
    "            right_word += '_ '\n",
    "    return right_word\n",
    "\n",
    "secretWord = 'apple' \n",
    "lettersGuessed = ['e', 'i', 'k', 'p', 'r', 's']\n",
    "print(getGuessedWord(secretWord, lettersGuessed))"
   ]
  },
  {
   "cell_type": "code",
   "execution_count": 10,
   "metadata": {},
   "outputs": [
    {
     "name": "stdout",
     "output_type": "stream",
     "text": [
      "abcdfghjlmnoqtuvwxyz\n"
     ]
    }
   ],
   "source": [
    "def getAvailableLetters(lettersGuessed):\n",
    "    '''\n",
    "    lettersGuessed: list, what letters have been guessed so far\n",
    "    returns: string, comprised of letters that represents what letters have not\n",
    "    yet been guessed.\n",
    "    '''\n",
    "    # FILL IN YOUR CODE HERE...\n",
    "    available_letters = 'abcdefghijklmnopqrstuvwxyz'\n",
    "    remaining_letters = ''\n",
    "    for char in available_letters:\n",
    "        if char not in lettersGuessed:\n",
    "            remaining_letters += char\n",
    "    return remaining_letters\n",
    "\n",
    "lettersGuessed = ['e', 'i', 'k', 'p', 'r', 's']\n",
    "print(getAvailableLetters(lettersGuessed))"
   ]
  },
  {
   "cell_type": "code",
   "execution_count": null,
   "metadata": {},
   "outputs": [
    {
     "name": "stdout",
     "output_type": "stream",
     "text": [
      "Welcome to the game Hangman!\n",
      "I am thinking of a word that is 5 letters long.\n",
      "You have 8 guesses left.\n",
      "Available Letters: abcdefghijklmnopqrstuvwxyz\n",
      "Oops! That letter is not in my word: _ _ _ _ _ \n",
      "You have 7 guesses left.\n",
      "Available Letters: abcdefghijklmnpqrstuvwxyz\n",
      "Good guess: _ _ _ l_ \n",
      "You have 7 guesses left.\n",
      "Available Letters: abcdefghijkmnpqrstuvwxyz\n",
      "Good guess: _ _ _ le\n",
      "You have 7 guesses left.\n",
      "Available Letters: abcdfghijkmnpqrstuvwxyz\n",
      "Good guess: _ pple\n",
      "You have 7 guesses left.\n",
      "Available Letters: abcdfghijkmnqrstuvwxyz\n",
      "Oops! That letter is not in my word: _ pple\n",
      "You have 6 guesses left.\n",
      "Available Letters: abcdfghjkmnqrstuvwxyz\n",
      "Oops! That letter is not in my word: _ pple\n",
      "You have 5 guesses left.\n",
      "Available Letters: abcdfghjkmnqrstuvwxz\n",
      "Oops! You've already guessed that letter: _ pple\n",
      "You have 5 guesses left.\n",
      "Available Letters: abcdfghjkmnqrstuvwxz\n",
      "Oops! You've already guessed that letter: _ pple\n",
      "You have 5 guesses left.\n",
      "Available Letters: abcdfghjkmnqrstuvwxz\n",
      "Oops! You've already guessed that letter: _ pple\n",
      "You have 5 guesses left.\n",
      "Available Letters: abcdfghjkmnqrstuvwxz\n",
      "Oops! That letter is not in my word: _ pple\n",
      "You have 4 guesses left.\n",
      "Available Letters: abcdfghjmnqrstuvwxz\n",
      "Good guess: apple\n",
      "Congratulations, you won!\n"
     ]
    }
   ],
   "source": [
    "def getAvailableLetters(lettersGuessed):\n",
    "    '''\n",
    "    lettersGuessed: list, what letters have been guessed so far\n",
    "    returns: string, comprised of letters that represents what letters have not\n",
    "    yet been guessed.\n",
    "    '''\n",
    "    available_letters = 'abcdefghijklmnopqrstuvwxyz'\n",
    "    remaining_letters = ''.join([char for char in available_letters if char not in lettersGuessed])\n",
    "    return remaining_letters\n",
    "\n",
    "def getGuessedWord(secretWord, lettersGuessed):\n",
    "    '''\n",
    "    secretWord: string, the word the user is guessing\n",
    "    lettersGuessed: list, what letters have been guessed so far\n",
    "    returns: string, comprised of letters and underscores that represents\n",
    "    what letters in secretWord have been guessed so far.\n",
    "    '''\n",
    "    guessed_word = ''.join([char if char in lettersGuessed else '_' for char in secretWord])\n",
    "    return guessed_word\n",
    "\n",
    "def hangman(secretWord):\n",
    "    '''\n",
    "    secretWord: string, the secret word to guess.\n",
    "\n",
    "    Starts up an interactive game of Hangman.\n",
    "\n",
    "    * At the start of the game, let the user know how many \n",
    "    letters the secretWord contains.\n",
    "\n",
    "    * Ask the user to supply one guess (i.e. letter) per round.\n",
    "\n",
    "    * The user should receive feedback immediately after each guess \n",
    "    about whether their guess appears in the computers word.\n",
    "\n",
    "    * After each round, you should also display to the user the \n",
    "    partially guessed word so far, as well as letters that the \n",
    "    user has not yet guessed.\n",
    "\n",
    "    Follows the other limitations detailed in the problem write-up.\n",
    "    '''\n",
    "    print('Welcome to the game Hangman!')\n",
    "    print('I am thinking of a word that is ' + str(len(secretWord)) + ' letters long.')\n",
    "    print('-----------')\n",
    "    lettersGuessed = []\n",
    "    n = 8  # number of available guesses\n",
    "\n",
    "    while n > 0:\n",
    "        print('You have ' + str(n) + ' guesses left.')\n",
    "        print('Available Letters: ' + getAvailableLetters(lettersGuessed))\n",
    "        letter = input('Please guess a letter: ').lower()\n",
    "\n",
    "        if letter in lettersGuessed:\n",
    "            print(\"Oops! You've already guessed that letter: \" + getGuessedWord(secretWord, lettersGuessed))\n",
    "            print('-----------')\n",
    "        elif letter in secretWord:\n",
    "            lettersGuessed.append(letter)\n",
    "            print('Good guess: ' + getGuessedWord(secretWord, lettersGuessed))\n",
    "            print('-----------')        \n",
    "        else:\n",
    "            lettersGuessed.append(letter)\n",
    "            print('Oops! That letter is not in my word: ' + getGuessedWord(secretWord, lettersGuessed))\n",
    "            n -= 1\n",
    "            print('-----------')\n",
    "        if getGuessedWord(secretWord, lettersGuessed) == secretWord:\n",
    "            print('Congratulations, you won!')\n",
    "            break\n",
    "    else:\n",
    "        print('Sorry, you ran out of guesses. The word was ' + secretWord + '.')\n",
    "\n",
    "# Example usage\n",
    "secretWord = 'apple'\n",
    "hangman(secretWord)"
   ]
  }
 ],
 "metadata": {
  "kernelspec": {
   "display_name": "Python 3",
   "language": "python",
   "name": "python3"
  },
  "language_info": {
   "codemirror_mode": {
    "name": "ipython",
    "version": 3
   },
   "file_extension": ".py",
   "mimetype": "text/x-python",
   "name": "python",
   "nbconvert_exporter": "python",
   "pygments_lexer": "ipython3",
   "version": "3.11.9"
  }
 },
 "nbformat": 4,
 "nbformat_minor": 2
}
