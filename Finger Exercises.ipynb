{
 "cells": [
  {
   "cell_type": "code",
   "execution_count": 18,
   "metadata": {},
   "outputs": [
    {
     "name": "stdout",
     "output_type": "stream",
     "text": [
      "Longest substring in alphabetical order is: abc\n"
     ]
    }
   ],
   "source": [
    "s = 'abcbcd'\n",
    "\n",
    "longest = ''\n",
    "current = ''\n",
    "\n",
    "for i in range(len(s)):\n",
    "    if i == 0 or s[i] >= s[i - 1]:\n",
    "        current += s[i]\n",
    "        if len(current) > len(longest):\n",
    "            longest = current\n",
    "    else:\n",
    "        current = s[i]\n",
    "\n",
    "print('Longest substring in alphabetical order is:', longest)"
   ]
  },
  {
   "cell_type": "code",
   "execution_count": 19,
   "metadata": {},
   "outputs": [
    {
     "name": "stdout",
     "output_type": "stream",
     "text": [
      "0\n",
      "1\n",
      "2\n",
      "3\n",
      "4\n",
      "5\n",
      "Outside of loop\n",
      "6\n"
     ]
    }
   ],
   "source": [
    "num = 0\n",
    "while num <= 5:\n",
    "    print(num)\n",
    "    num += 1\n",
    "\n",
    "print(\"Outside of loop\")\n",
    "print(num)"
   ]
  },
  {
   "cell_type": "code",
   "execution_count": 25,
   "metadata": {},
   "outputs": [
    {
     "name": "stdout",
     "output_type": "stream",
     "text": [
      "2\n",
      "4\n",
      "6\n",
      "8\n",
      "10\n",
      "Goodbye!\n"
     ]
    }
   ],
   "source": [
    "x = 2\n",
    "while x < 11:\n",
    "    print (x)\n",
    "    x += 2\n",
    "print ('Goodbye!')"
   ]
  },
  {
   "cell_type": "code",
   "execution_count": 26,
   "metadata": {},
   "outputs": [
    {
     "name": "stdout",
     "output_type": "stream",
     "text": [
      "Hello!\n",
      "10\n",
      "8\n",
      "6\n",
      "4\n",
      "2\n"
     ]
    }
   ],
   "source": [
    "x = 10\n",
    "print ('Hello!')\n",
    "while x > 1:\n",
    "    print (x)\n",
    "    x -= 2"
   ]
  },
  {
   "cell_type": "code",
   "execution_count": 36,
   "metadata": {},
   "outputs": [
    {
     "name": "stdout",
     "output_type": "stream",
     "text": [
      "36\n"
     ]
    }
   ],
   "source": [
    "end = 8\n",
    "total = 0\n",
    "i = 1\n",
    "\n",
    "while i <= end:\n",
    "    total += i\n",
    "    i += 1\n",
    "\n",
    "\n",
    "print(total)"
   ]
  },
  {
   "cell_type": "code",
   "execution_count": 39,
   "metadata": {},
   "outputs": [
    {
     "name": "stdout",
     "output_type": "stream",
     "text": [
      "2\n",
      "4\n",
      "6\n",
      "8\n",
      "10\n",
      "Goodbye!\n"
     ]
    }
   ],
   "source": [
    "for i in range(2,11,2):\n",
    "    print (i)\n",
    "print ('Goodbye!')"
   ]
  },
  {
   "cell_type": "code",
   "execution_count": 40,
   "metadata": {},
   "outputs": [
    {
     "name": "stdout",
     "output_type": "stream",
     "text": [
      "Hello!\n",
      "10\n",
      "8\n",
      "6\n",
      "4\n",
      "2\n"
     ]
    }
   ],
   "source": [
    "print ('Hello!')\n",
    "for i in range(10,1,-2):\n",
    "    print (i)\n"
   ]
  },
  {
   "cell_type": "code",
   "execution_count": 43,
   "metadata": {},
   "outputs": [
    {
     "name": "stdout",
     "output_type": "stream",
     "text": [
      "21\n"
     ]
    }
   ],
   "source": [
    "end = 6\n",
    "total = 0\n",
    "\n",
    "for i in range(1,end+1):\n",
    "    total += i\n",
    "    i += 1\n",
    "\n",
    "\n",
    "print(total)"
   ]
  },
  {
   "cell_type": "code",
   "execution_count": 2,
   "metadata": {},
   "outputs": [
    {
     "name": "stdout",
     "output_type": "stream",
     "text": [
      "0\n",
      "1\n",
      "2\n",
      "3\n",
      "4\n",
      "4\n"
     ]
    }
   ],
   "source": [
    "num = 10\n",
    "for num in range(5):\n",
    "    print(num)\n",
    "print(num)"
   ]
  },
  {
   "cell_type": "code",
   "execution_count": 4,
   "metadata": {},
   "outputs": [
    {
     "name": "stdout",
     "output_type": "stream",
     "text": [
      "failed\n"
     ]
    }
   ],
   "source": [
    "x = 23\n",
    "epsilon = 0.01\n",
    "step = 0.1\n",
    "guess = 0.0\n",
    "\n",
    "while abs(guess**2-x) >= epsilon:\n",
    "    if guess <= x:\n",
    "        guess += step\n",
    "    else:\n",
    "        break\n",
    "\n",
    "if abs(guess**2 - x) >= epsilon:\n",
    "    print('failed')\n",
    "else:\n",
    "    print('succeeded: ' + str(guess))"
   ]
  },
  {
   "cell_type": "code",
   "execution_count": 2,
   "metadata": {},
   "outputs": [
    {
     "name": "stdout",
     "output_type": "stream",
     "text": [
      "Please think of a number between 0 and 100!\n",
      "Is your secret number 50?\n",
      "Is your secret number 25?\n",
      "Is your secret number 38?\n",
      "Is your secret number 32?\n",
      "Is your secret number 35?\n",
      "Is your secret number 34?\n",
      "Is your secret number 34?\n",
      "Is your secret number 34?\n",
      "Game over. Your secret number was: 34\n"
     ]
    }
   ],
   "source": [
    "high = 100\n",
    "low = 0\n",
    "ans = round((high + low) / 2.0)\n",
    "user_input = ''\n",
    "print('Please think of a number between 0 and 100!')\n",
    "while user_input != 'c':\n",
    "    print('Is your secret number ' + str(ans) + '?')\n",
    "    user_input = input(\"Enter 'h' to indicate the guess is too high. Enter 'l' to indicate the guess is too low. Enter 'c' to indicate I guessed correctly: \")\n",
    "    if user_input == 'h':\n",
    "        high = (ans)\n",
    "    elif user_input == 'l':\n",
    "        low = int(ans)\n",
    "    elif user_input == 'c':\n",
    "        print('Game over. Your secret number was: ' + str(ans))\n",
    "        break\n",
    "    else:\n",
    "        print(\"Sorry, I did not understand your input.\")\n",
    "    ans = round((high + low) / 2.0)"
   ]
  },
  {
   "cell_type": "code",
   "execution_count": 10,
   "metadata": {},
   "outputs": [
    {
     "name": "stdout",
     "output_type": "stream",
     "text": [
      "-101\n"
     ]
    }
   ],
   "source": [
    "num = 5\n",
    "\n",
    "if num > 0:\n",
    "    isNeg = True\n",
    "    num = abs(num)\n",
    "else:\n",
    "    isNeg = False\n",
    "    result = ''\n",
    "if num == 0:\n",
    "    result = '0'\n",
    "else:\n",
    "    result = ''\n",
    "    while num > 0:\n",
    "        result = str(num % 2) + result\n",
    "        num = num // 2\n",
    "    if isNeg:\n",
    "        result = '-' + result\n",
    "    \n",
    "print(result)"
   ]
  },
  {
   "cell_type": "code",
   "execution_count": 11,
   "metadata": {},
   "outputs": [
    {
     "name": "stdout",
     "output_type": "stream",
     "text": [
      "Remainder = 0.7\n",
      "Remainder = 0.3999999999999999\n",
      "Remainder = 0.7999999999999998\n",
      "Remainder = 0.5999999999999996\n",
      "Remainder = 0.1999999999999993\n",
      "Remainder = 0.3999999999999986\n",
      "Remainder = 0.7999999999999972\n",
      "Remainder = 0.5999999999999943\n",
      "Remainder = 0.19999999999998863\n",
      "Remainder = 0.39999999999997726\n",
      "Remainder = 0.7999999999999545\n",
      "Remainder = 0.599999999999909\n",
      "Remainder = 0.1999999999998181\n",
      "Remainder = 0.3999999999996362\n",
      "Remainder = 0.7999999999992724\n",
      "Remainder = 0.5999999999985448\n",
      "Remainder = 0.19999999999708962\n",
      "Remainder = 0.39999999999417923\n",
      "Remainder = 0.7999999999883585\n",
      "Remainder = 0.5999999999767169\n",
      "Remainder = 0.19999999995343387\n",
      "Remainder = 0.39999999990686774\n",
      "Remainder = 0.7999999998137355\n",
      "Remainder = 0.599999999627471\n",
      "Remainder = 0.19999999925494194\n",
      "Remainder = 0.3999999985098839\n",
      "Remainder = 0.7999999970197678\n",
      "Remainder = 0.5999999940395355\n",
      "Remainder = 0.19999998807907104\n",
      "Remainder = 0.3999999761581421\n",
      "Remainder = 0.7999999523162842\n",
      "Remainder = 0.5999999046325684\n",
      "Remainder = 0.19999980926513672\n",
      "Remainder = 0.39999961853027344\n",
      "Remainder = 0.7999992370605469\n",
      "Remainder = 0.5999984741210938\n",
      "Remainder = 0.1999969482421875\n",
      "Remainder = 0.399993896484375\n",
      "Remainder = 0.79998779296875\n",
      "Remainder = 0.5999755859375\n",
      "Remainder = 0.199951171875\n",
      "Remainder = 0.39990234375\n",
      "Remainder = 0.7998046875\n",
      "Remainder = 0.599609375\n",
      "Remainder = 0.19921875\n",
      "Remainder = 0.3984375\n",
      "Remainder = 0.796875\n",
      "Remainder = 0.59375\n",
      "Remainder = 0.1875\n",
      "Remainder = 0.375\n",
      "Remainder = 0.75\n",
      "Remainder = 0.5\n",
      "The binary representation of the decimal 0.7 is .1011001100110011001100110011001100110011001100110011\n"
     ]
    }
   ],
   "source": [
    "x = float(input('Enter a decimal number between 0 and 1: '))\n",
    "p = 0\n",
    "while ((2**p)*x) % 1 != 0:\n",
    "    print('Remainder = ' + str((2**p)*x - int((2**p)*x)))\n",
    "    p += 1\n",
    "num = int(x*(2**p))\n",
    "result = ''\n",
    "if num == 0:\n",
    "    result = '0'\n",
    "while num > 0:\n",
    "    result = str(num % 2) + result\n",
    "    num = num // 2\n",
    "for i in range(p - len(result)):\n",
    "    result = '0' + result\n",
    "result = result[0:-p] + '.' + result[-p:]\n",
    "print('The binary representation of the decimal ' + str(x) + ' is ' + str(result))"
   ]
  },
  {
   "cell_type": "code",
   "execution_count": 18,
   "metadata": {},
   "outputs": [
    {
     "data": {
      "text/plain": [
       "'elwr'"
      ]
     },
     "execution_count": 18,
     "metadata": {},
     "output_type": "execute_result"
    }
   ],
   "source": [
    "str1 = 'hello'\n",
    "str2 = ','\n",
    "str3 = 'world'\n",
    "str1 = 'hello'\n",
    "str4 = str1 + str3\n",
    "str4[1:9:2]"
   ]
  },
  {
   "cell_type": "code",
   "execution_count": 8,
   "metadata": {},
   "outputs": [
    {
     "data": {
      "text/plain": [
       "0"
      ]
     },
     "execution_count": 8,
     "metadata": {},
     "output_type": "execute_result"
    }
   ],
   "source": [
    "str1 = 'exterminate!' \n",
    "str2 = 'number one - the larch'\n",
    "\n",
    "str2.find('n')\n",
    "\n"
   ]
  },
  {
   "cell_type": "code",
   "execution_count": 1,
   "metadata": {},
   "outputs": [],
   "source": [
    "def factorial(n):\n",
    "    prod = 1\n",
    "    for i in range(1,n+1):\n",
    "        prod *= i\n",
    "    return prod"
   ]
  },
  {
   "cell_type": "code",
   "execution_count": 2,
   "metadata": {},
   "outputs": [
    {
     "data": {
      "text/plain": [
       "24"
      ]
     },
     "execution_count": 2,
     "metadata": {},
     "output_type": "execute_result"
    }
   ],
   "source": [
    "factorial(4)"
   ]
  },
  {
   "cell_type": "code",
   "execution_count": 3,
   "metadata": {},
   "outputs": [],
   "source": [
    "def fact(n):\n",
    "    if n == 1:\n",
    "        return 1\n",
    "    else:\n",
    "        return n*fact(n-1)"
   ]
  },
  {
   "cell_type": "code",
   "execution_count": 5,
   "metadata": {},
   "outputs": [
    {
     "data": {
      "text/plain": [
       "720"
      ]
     },
     "execution_count": 5,
     "metadata": {},
     "output_type": "execute_result"
    }
   ],
   "source": [
    "fact(6)"
   ]
  },
  {
   "cell_type": "code",
   "execution_count": 41,
   "metadata": {},
   "outputs": [],
   "source": [
    "def iterPower(base, exp):\n",
    "    '''\n",
    "    base: int or float.\n",
    "    exp: int >= 0\n",
    " \n",
    "    returns: int or float, base^exp\n",
    "    '''\n",
    "    if exp == 0:\n",
    "        return 1\n",
    "    prod = base\n",
    "    for i in range(1,exp):\n",
    "        prod = prod * base    \n",
    "    return prod"
   ]
  },
  {
   "cell_type": "code",
   "execution_count": 48,
   "metadata": {},
   "outputs": [
    {
     "data": {
      "text/plain": [
       "256"
      ]
     },
     "execution_count": 48,
     "metadata": {},
     "output_type": "execute_result"
    }
   ],
   "source": [
    "iterPower(4,4)"
   ]
  },
  {
   "cell_type": "code",
   "execution_count": 51,
   "metadata": {},
   "outputs": [
    {
     "data": {
      "text/plain": [
       "16"
      ]
     },
     "execution_count": 51,
     "metadata": {},
     "output_type": "execute_result"
    }
   ],
   "source": [
    "def recurPower(base, exp):\n",
    "    '''\n",
    "    base: int or float.\n",
    "    exp: int >= 0\n",
    " \n",
    "    returns: int or float, base^exp\n",
    "    '''\n",
    "    if exp == 0:\n",
    "        return 1\n",
    "    else:\n",
    "        return base*recurPower(base,exp-1)\n",
    "    \n",
    "recurPower(2,4)"
   ]
  }
 ],
 "metadata": {
  "kernelspec": {
   "display_name": "Python 3",
   "language": "python",
   "name": "python3"
  },
  "language_info": {
   "codemirror_mode": {
    "name": "ipython",
    "version": 3
   },
   "file_extension": ".py",
   "mimetype": "text/x-python",
   "name": "python",
   "nbconvert_exporter": "python",
   "pygments_lexer": "ipython3",
   "version": "3.11.9"
  }
 },
 "nbformat": 4,
 "nbformat_minor": 2
}
