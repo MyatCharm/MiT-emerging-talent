{
 "cells": [
  {
   "cell_type": "code",
   "execution_count": 15,
   "metadata": {},
   "outputs": [
    {
     "name": "stdout",
     "output_type": "stream",
     "text": [
      "appleay\n",
      "ordway\n"
     ]
    }
   ],
   "source": [
    "def pig_latin(word):\n",
    "    vowel = 'aeiouAEIOU'\n",
    "    first_letter = word[0]\n",
    "    #Check word starts with vowel\n",
    "    if first_letter in vowel:\n",
    "        return word +'ay'\n",
    "    else:\n",
    "        return word[1:] + first_letter + 'ay'\n",
    "    \n",
    "    \n",
    "print(pig_latin('apple'))\n",
    "print(pig_latin('word'))"
   ]
  },
  {
   "cell_type": "code",
   "execution_count": 19,
   "metadata": {},
   "outputs": [
    {
     "name": "stdout",
     "output_type": "stream",
     "text": [
      "2\n",
      "11\n",
      "0\n",
      "6\n"
     ]
    }
   ],
   "source": [
    "\n",
    "def diff21(n):\n",
    "    '''\n",
    "    Given an int n, return the absolute difference between n and 21, \n",
    "    except return double the absolute difference if n is over 21.\n",
    "\n",
    "\n",
    "    diff21(19) → 2\n",
    "    diff21(10) → 11\n",
    "    diff21(21) → 0\n",
    "    '''\n",
    "    ans = abs(21-n)\n",
    "    if n > 21:\n",
    "        return ans * 2\n",
    "    else:\n",
    "        return ans \n",
    "    \n",
    "print(diff21(19))\n",
    "print(diff21(10)) \n",
    "print(diff21(21))\n",
    "print(diff21(24))\n"
   ]
  },
  {
   "cell_type": "code",
   "execution_count": null,
   "metadata": {},
   "outputs": [
    {
     "name": "stdout",
     "output_type": "stream",
     "text": [
      "True\n",
      "True\n",
      "False\n"
     ]
    }
   ],
   "source": [
    "def near_hundred(n):\n",
    "    \"\"\"\n",
    "    Given an int n, return True if it is within 10 of 100 or 200. \n",
    "    Note: abs(num) computes the absolute value of a number.\n",
    "\n",
    "    Args:\n",
    "        n (_int_):\n",
    "    \"\"\"\n",
    "    if abs(100-n) <= 10 or abs(200-n) <= 10:\n",
    "        return True\n",
    "    else:\n",
    "        return False\n",
    "    \n",
    "#test\n",
    "print(near_hundred(93)) #True\n",
    "print(near_hundred(190)) #True\n",
    "print(near_hundred(89)) #False"
   ]
  },
  {
   "cell_type": "code",
   "execution_count": 24,
   "metadata": {},
   "outputs": [
    {
     "name": "stdout",
     "output_type": "stream",
     "text": [
      "ktten\n"
     ]
    }
   ],
   "source": [
    "def missing_char(str,n):\n",
    "    \"\"\"\n",
    "    Given a non-empty string and an int n, \n",
    "    return a new string where the char at index n has been removed. \n",
    "    The value of n will be a valid index of a char in the original string \n",
    "    (i.e. n will be in the range 0..len(str)-1 inclusive).\n",
    "\n",
    "    Args:\n",
    "        str (string): non_empty_string\n",
    "        n (int): index to pop\n",
    "    \"\"\"\n",
    "    new_str = str[:n] + str[n+1:]  # Use slicing to exclude the character at index n\n",
    "    return new_str\n",
    "\n",
    "print(missing_char('kitten', 1))  # Expected output: 'ktten'"
   ]
  },
  {
   "cell_type": "code",
   "execution_count": null,
   "metadata": {},
   "outputs": [
    {
     "name": "stdout",
     "output_type": "stream",
     "text": [
      "tyinM\n",
      "a\n",
      "ba\n"
     ]
    }
   ],
   "source": [
    "def front_back(str):\n",
    "    \"\"\"Given a string, return a new string \n",
    "    where the first and last chars have been exchanged.\n",
    "    \"\"\"\n",
    "    if len(str) <= 1:\n",
    "        return str\n",
    "    else:\n",
    "        return str[-1] + str[1:-1] + str[0]\n",
    "    \n",
    "    \n",
    "print(front_back('Myint'))\n",
    "print(front_back('a'))\n",
    "print(front_back('ab'))"
   ]
  },
  {
   "cell_type": "code",
   "execution_count": 28,
   "metadata": {},
   "outputs": [
    {
     "name": "stdout",
     "output_type": "stream",
     "text": [
      "JavJavJav\n",
      "ChoChoCho\n",
      "isisis\n"
     ]
    }
   ],
   "source": [
    "def front3(str):\n",
    "    \"\"\"\n",
    "Given a string, we'll say that the front is the first 3 chars of the string. \n",
    "If the string length is less than 3, the front is whatever is there. \n",
    "Return a new string which is 3 copies of the front.\n",
    "\n",
    "    Args:\n",
    "        str (str): \n",
    "    \"\"\"\n",
    "    cut_str = str[0:3]\n",
    "    return 3*cut_str\n",
    "\n",
    "print(front3('Java'))\n",
    "print(front3('Chocolate'))\n",
    "print(front3('is'))"
   ]
  },
  {
   "cell_type": "code",
   "execution_count": 1,
   "metadata": {},
   "outputs": [
    {
     "name": "stdout",
     "output_type": "stream",
     "text": [
      "3\n",
      "5\n",
      "8\n"
     ]
    }
   ],
   "source": [
    "def sum_double(a, b):\n",
    "    \"\"\"\n",
    "    Given two int values, return their sum. Unless the two values are the same, \n",
    "    then return double their sum.\n",
    "\n",
    "    Args:\n",
    "        a (int): _description_\n",
    "        b (int): _description_\n",
    "    \"\"\"\n",
    "    if a == b:\n",
    "        return 2*(a+b)\n",
    "    else:\n",
    "        return a + b\n",
    "    \n",
    "    \n",
    "print(sum_double(1,2))\n",
    "print(sum_double(3,2))\n",
    "print(sum_double(2,2))\n",
    "    "
   ]
  }
 ],
 "metadata": {
  "kernelspec": {
   "display_name": "Python 3",
   "language": "python",
   "name": "python3"
  },
  "language_info": {
   "codemirror_mode": {
    "name": "ipython",
    "version": 3
   },
   "file_extension": ".py",
   "mimetype": "text/x-python",
   "name": "python",
   "nbconvert_exporter": "python",
   "pygments_lexer": "ipython3",
   "version": "3.11.9"
  }
 },
 "nbformat": 4,
 "nbformat_minor": 2
}
